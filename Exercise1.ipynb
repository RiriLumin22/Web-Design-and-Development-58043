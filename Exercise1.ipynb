{
  "nbformat": 4,
  "nbformat_minor": 0,
  "metadata": {
    "colab": {
      "name": "Exercise1.ipynb",
      "provenance": [],
      "authorship_tag": "ABX9TyNZXgebgPew8c/h5eN5Cq9v",
      "include_colab_link": true
    },
    "kernelspec": {
      "name": "python3",
      "display_name": "Python 3"
    },
    "language_info": {
      "name": "python"
    }
  },
  "cells": [
    {
      "cell_type": "markdown",
      "metadata": {
        "id": "view-in-github",
        "colab_type": "text"
      },
      "source": [
        "<a href=\"https://colab.research.google.com/github/RizareJohnDale/Web-Design-and-Development-58043/blob/main/Exercise1.ipynb\" target=\"_parent\"><img src=\"https://colab.research.google.com/assets/colab-badge.svg\" alt=\"Open In Colab\"/></a>"
      ]
    },
    {
      "cell_type": "code",
      "execution_count": 29,
      "metadata": {
        "colab": {
          "base_uri": "https://localhost:8080/"
        },
        "id": "MqlXts9DmYrP",
        "outputId": "994c1e76-8322-4a9b-cc6a-fc98d26aaf2c"
      },
      "outputs": [
        {
          "output_type": "stream",
          "name": "stdout",
          "text": [
            "Input the radius of a circle: 3\n",
            "Area of a circle =  28.259999999999998\n"
          ]
        }
      ],
      "source": [
        "#Program to compute for the area of a circle\n",
        "\n",
        "import numpy as np\n",
        "\n",
        "Pi = 3.14 #value of Pi\n",
        "Radius = float (input (\"Input the radius of a circle: \")) #Value of Radius\n",
        "\n",
        "Area = Pi * Radius * Radius #formula to get the area of circle\n",
        "\n",
        "print(\"Area of a circle = \", Area) #display output"
      ]
    }
  ]
}